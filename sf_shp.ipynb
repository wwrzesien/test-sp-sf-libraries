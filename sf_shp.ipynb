{
 "cells": [
  {
   "cell_type": "markdown",
   "metadata": {},
   "source": [
    "# Library: sf\n",
    "Data: Philadelphia database. Source: .csv, .shp"
   ]
  },
  {
   "cell_type": "code",
   "execution_count": null,
   "metadata": {},
   "outputs": [],
   "source": [
    "# Install packages\n",
    "install.packages('sf')\n",
    "install.packages('ggplot2')\n",
    "install.packages('classInt')\n",
    "install.packages('tidyverse')\n",
    "install.packages('ggmap')"
   ]
  },
  {
   "cell_type": "code",
   "execution_count": null,
   "metadata": {},
   "outputs": [],
   "source": [
    "# Import libraries\n",
    "library(sf)\n",
    "library(ggplot2)\n",
    "library(classInt)\n",
    "library(rgdal)\n",
    "library(rgeos)"
   ]
  },
  {
   "cell_type": "code",
   "execution_count": null,
   "metadata": {},
   "outputs": [],
   "source": [
    "# Open files\n",
    "\n",
    "# Open Philadelphia homicides database\n",
    "path_hom <- \"./data/PhillyHomicides/\"\n",
    "philly_hom <- st_read(dsn=path_hom, \"PhillyHomicides\")\n",
    "\n",
    "# Open Philadelphia education database\n",
    "path_edu <- \"./data/PhiladelphiaEduAttain.csv\"\n",
    "philly_edu <- st_read(dsn=path_edu)\n",
    "\n",
    "# Open Philadelphia region database\n",
    "path <- \"./data/Philly/\"\n",
    "philly <- st_read(dsn=path, \"PhillyTotalPopHHinc\")"
   ]
  },
  {
   "cell_type": "code",
   "execution_count": null,
   "metadata": {},
   "outputs": [],
   "source": [
    "# Display headers\n",
    "names(philly_hom)\n",
    "names(philly_edu)\n",
    "names(philly)"
   ]
  },
  {
   "cell_type": "code",
   "execution_count": null,
   "metadata": {},
   "outputs": [],
   "source": [
    "# Disply only geometry\n",
    "plot(st_geometry(philly))"
   ]
  },
  {
   "cell_type": "code",
   "execution_count": null,
   "metadata": {},
   "outputs": [],
   "source": [
    "# Subset where household income is more than 40 000$\n",
    "plot(st_geometry(philly), main=\"Obszary z dochodem powyżej 40 000$\")\n",
    "philly_40k <- subset(philly, medHHinc > 40000)\n",
    "plot(st_geometry(philly_40k), add=T, col=\"red\")"
   ]
  },
  {
   "cell_type": "code",
   "execution_count": null,
   "metadata": {
    "scrolled": true
   },
   "outputs": [],
   "source": [
    "# Sampling\n",
    "par(mfrow=c(2, 2))\n",
    "\n",
    "regular <- st_sample(philly, 100, type=\"regular\", pretty=TRUE)\n",
    "plot(regular)\n",
    "\n",
    "random <- st_sample(philly, 100, type=\"random\", pretty=TRUE)\n",
    "plot(random)\n",
    "\n",
    "hexagonal <- st_sample(philly, 100, type=\"hexagonal\", pretty=TRUE)\n",
    "plot(hexagonal)"
   ]
  },
  {
   "cell_type": "code",
   "execution_count": null,
   "metadata": {},
   "outputs": [],
   "source": [
    "# Join database\n",
    "philly_merge_edu <- merge(philly, philly_edu, by.x=\"GEOID10\", by.y=\"GEOID\")\n",
    "\n",
    "# Dislay results\n",
    "names(philly_merge_edu)"
   ]
  },
  {
   "cell_type": "code",
   "execution_count": null,
   "metadata": {
    "scrolled": false
   },
   "outputs": [],
   "source": [
    "# Reprojecting\n",
    "\n",
    "# Check current coordinates\n",
    "range(st_coordinates(philly))\n",
    "range(st_coordinates(philly_hom))\n",
    "\n",
    "st_crs(philly)\n",
    "st_crs(philly_hom)\n",
    "\n",
    "# Transform\n",
    "philly_hom_proj <- st_transform(philly_hom, st_crs(philly))\n",
    "\n",
    "# Check results\n",
    "range(st_coordinates(philly))\n",
    "range(st_coordinates(philly_hom_proj))\n",
    "\n",
    "st_crs(philly)\n",
    "st_crs(philly_hom_proj)"
   ]
  },
  {
   "cell_type": "code",
   "execution_count": null,
   "metadata": {},
   "outputs": [],
   "source": [
    "# Spatial aggregation\n",
    "philly_aggr <- aggregate(x=philly_hom_proj[\"OBJ_ID\"], by=philly, FUN=length)"
   ]
  },
  {
   "cell_type": "code",
   "execution_count": null,
   "metadata": {
    "scrolled": true
   },
   "outputs": [],
   "source": [
    "# Number of murders in Phipadelphia\n",
    "plot(st_geometry(philly), main=\"Liczba morderstw w Filadelfii\")\n",
    "plot(philly_hom_proj[\"OBJ_ID\"], add=TRUE)\n",
    "plot(philly_aggr, main=\"Liczba morderstw w Filadelfii\")\n",
    "plot(philly_hom[\"TEXT_GE\"], main=\"Morderstwa w Filadelfii\", key.pos=1, key.length=1.0)"
   ]
  }
 ],
 "metadata": {
  "kernelspec": {
   "display_name": "R",
   "language": "R",
   "name": "ir"
  },
  "language_info": {
   "codemirror_mode": "r",
   "file_extension": ".r",
   "mimetype": "text/x-r-source",
   "name": "R",
   "pygments_lexer": "r",
   "version": "3.6.3"
  }
 },
 "nbformat": 4,
 "nbformat_minor": 4
}
