{
 "cells": [
  {
   "cell_type": "markdown",
   "metadata": {},
   "source": [
    "# Library: sp\n",
    "Data: airport database. Source: .csv"
   ]
  },
  {
   "cell_type": "code",
   "execution_count": null,
   "metadata": {},
   "outputs": [],
   "source": [
    "# Import libraries\n",
    "library(sp)\n",
    "library(rgdal)\n",
    "library(rgeos)"
   ]
  },
  {
   "cell_type": "code",
   "execution_count": null,
   "metadata": {},
   "outputs": [],
   "source": [
    "# Download data from url\n",
    "url_csv <- \"https://raw.githubusercontent.com/jpatokal/openflights/master/data/airports.dat\"\n",
    "local_dest <- \"./data/data_csv.csv\"\n",
    "\n",
    "download.file(url_csv, local_dest)"
   ]
  },
  {
   "cell_type": "code",
   "execution_count": null,
   "metadata": {},
   "outputs": [],
   "source": [
    "# Read data from .csv file, set header for data\n",
    "raw_data_csv <- read.csv(\"./data/data_csv.csv\",\n",
    "                        header = FALSE,\n",
    "                        col.names = c(\"id\", \"name\", \"city\", \"country\", \"iata\", \"icao\", \"latitude\", \"longitude\", \"altitude\", \"timezone\", \"tz\", \"dst\", \"type\", \"source\"),\n",
    "                        stringsAsFactors=FALSE)\n",
    "\n",
    "# Check object type\n",
    "str(raw_data_csv)"
   ]
  },
  {
   "cell_type": "code",
   "execution_count": null,
   "metadata": {},
   "outputs": [],
   "source": [
    "# Display basic info about data - object data.frame\n",
    "head(raw_data_csv)\n",
    "str(raw_data_csv)"
   ]
  },
  {
   "cell_type": "code",
   "execution_count": null,
   "metadata": {},
   "outputs": [],
   "source": [
    "# Create Spatial object\n",
    "spatial_data =`coordinates<-`(raw_data_csv, c(\"longitude\", \"latitude\"))\n",
    "\n",
    "# Check object type\n",
    "str(spatial_data)"
   ]
  },
  {
   "cell_type": "code",
   "execution_count": null,
   "metadata": {},
   "outputs": [],
   "source": [
    "# Info about Spatial object\n",
    "bbox(spatial_data)\n",
    "spatial_data[1,]"
   ]
  },
  {
   "cell_type": "code",
   "execution_count": null,
   "metadata": {},
   "outputs": [],
   "source": [
    "# Get airports from Poland\n",
    "pol_spatial_data = spatial_data[grep(\"Poland\", spatial_data$country),]\n",
    "\n",
    "# Describing Coordinate Reference System (CRS)\n",
    "proj_pol_spatial_data = `proj4string<-`(pol_spatial_data, CRS(\"+proj=longlat +ellps=WGS84\"))"
   ]
  },
  {
   "cell_type": "code",
   "execution_count": null,
   "metadata": {
    "scrolled": false
   },
   "outputs": [],
   "source": [
    "# Plot data with plot function\n",
    "par(mfrow=c(1,2))\n",
    "plot(pol_spatial_data[\"altitude\"], main=\"Przed zdefiniowaniem CRS\", xlab=\"Latitude\", ylab=\"Longitude\")\n",
    "plot(proj_pol_spatial_data[\"altitude\"], main=\"Po zdefiniowaniu CRS\", xlab=\"Latitude\", ylab=\"Longitude\")\n"
   ]
  },
  {
   "cell_type": "code",
   "execution_count": null,
   "metadata": {
    "scrolled": false
   },
   "outputs": [],
   "source": [
    "# Plot data with spplot function\n",
    "par(mfrow=c(1,2))\n",
    "spplot(pol_spatial_data, \"altitude\", colorkey=TRUE, main=\"Przed zdefiniowaniem CRS\", xlab=\"Latitude\", ylab=\"Longitude\")\n",
    "spplot(proj_pol_spatial_data, \"altitude\", colorkey=TRUE, main=\"Po zdefiniowaniu CRS\", xlab=\"Latitude\", ylab=\"Longitude\")"
   ]
  },
  {
   "cell_type": "code",
   "execution_count": null,
   "metadata": {},
   "outputs": [],
   "source": [
    "# Convert 'SpatialPointsDataFrame' to 'sf' 'data.frame'\n",
    "conv_to_sf = st_as_sf(proj_pol_spatial_data)\n",
    "plot(conv_to_sf)"
   ]
  }
 ],
 "metadata": {
  "kernelspec": {
   "display_name": "R",
   "language": "R",
   "name": "ir"
  },
  "language_info": {
   "codemirror_mode": "r",
   "file_extension": ".r",
   "mimetype": "text/x-r-source",
   "name": "R",
   "pygments_lexer": "r",
   "version": "3.6.3"
  }
 },
 "nbformat": 4,
 "nbformat_minor": 4
}
