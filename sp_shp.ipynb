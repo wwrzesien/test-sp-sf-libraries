{
 "cells": [
  {
   "cell_type": "markdown",
   "metadata": {},
   "source": [
    "# Library: sp\n",
    "Data: Philadelphia database. Source: .csv, .shp"
   ]
  },
  {
   "cell_type": "code",
   "execution_count": null,
   "metadata": {
    "scrolled": false
   },
   "outputs": [],
   "source": [
    "# Import libraries\n",
    "library(sp)\n",
    "library(rgdal)\n",
    "library(rgeos)"
   ]
  },
  {
   "cell_type": "code",
   "execution_count": null,
   "metadata": {},
   "outputs": [],
   "source": [
    "# Open files\n",
    "\n",
    "# Open Philadelphia homicides database\n",
    "path_hom <- \"./data/PhillyHomicides/\"\n",
    "philly_hom <- readOGR(dsn=path_hom, \"PhillyHomicides\")\n",
    "\n",
    "# Open Philadelphia education database\n",
    "path_edu <- \"./data/PhiladelphiaEduAttain.csv\"\n",
    "philly_edu <- read.csv(path_edu)\n",
    "\n",
    "# Open Philadelphia region database\n",
    "path <- \"./data/Philly/\"\n",
    "philly <- readOGR(dsn=path, \"PhillyTotalPopHHinc\")"
   ]
  },
  {
   "cell_type": "code",
   "execution_count": null,
   "metadata": {},
   "outputs": [],
   "source": [
    "# Display columns names\n",
    "names(philly_edu)"
   ]
  },
  {
   "cell_type": "code",
   "execution_count": null,
   "metadata": {
    "scrolled": true
   },
   "outputs": [],
   "source": [
    "# Display info about datasets\n",
    "str(philly)\n",
    "str(philly_hom)"
   ]
  },
  {
   "cell_type": "code",
   "execution_count": null,
   "metadata": {
    "scrolled": true
   },
   "outputs": [],
   "source": [
    "# Median household income\n",
    "spplot(philly, \"medHHinc\", main=\"Mediana dochodu na mieszkanie\")"
   ]
  },
  {
   "cell_type": "code",
   "execution_count": null,
   "metadata": {},
   "outputs": [],
   "source": [
    "# Subset where household income is more than 40 000$\n",
    "plot(philly, main=\"Obszary z dochodem powyżej 40 000$\")\n",
    "philly_40k <- subset(philly, medHHinc > 40000)\n",
    "plot(philly_40k, add=T, col=\"blue\", main=\"Obszary z dochodem powyżej 40 000$\")"
   ]
  },
  {
   "cell_type": "code",
   "execution_count": null,
   "metadata": {},
   "outputs": [],
   "source": [
    "# Total population\n",
    "spplot(philly, \"totalPop\")"
   ]
  },
  {
   "cell_type": "code",
   "execution_count": null,
   "metadata": {},
   "outputs": [],
   "source": [
    "# Display shape area of the first region\n",
    "first_region_shape_area = philly[1, \"Shape_area\"]\n",
    "spplot(first_region_shape_area, main=\"Pojedynczy region miasta\")"
   ]
  },
  {
   "cell_type": "code",
   "execution_count": null,
   "metadata": {
    "scrolled": true
   },
   "outputs": [],
   "source": [
    "# Sampling\n",
    "par(mfrow=c(2, 2))\n",
    "\n",
    "set.seed(225)\n",
    "regular <- spsample(first_region_shape_area, 100, type=\"regular\", pretty=TRUE)\n",
    "plot(regular, main=\"Próbkowanie regularne\")\n",
    "\n",
    "set.seed(225)\n",
    "random <- spsample(first_region_shape_area, 100, type=\"random\", pretty=TRUE)\n",
    "plot(random, main=\"Próbkowanie losowe\")\n",
    "\n",
    "set.seed(225)\n",
    "nonaligned <- spsample(first_region_shape_area, 100, type=\"nonaligned\", main=\"Próbkowanie nieprzyległe\")\n",
    "plot(nonaligned, main=\"Próbkowanie nieprzyległe\")\n",
    "\n",
    "set.seed(225)\n",
    "stratified <- spsample(first_region_shape_area, 100, type=\"stratified\")\n",
    "plot(stratified, main=\"Próbkowanie stratyfikowane\")"
   ]
  },
  {
   "cell_type": "code",
   "execution_count": null,
   "metadata": {},
   "outputs": [],
   "source": [
    "# Join database\n",
    "philly_merge_edu <- merge(philly, philly_edu, by.x=\"GEOID10\", by.y=\"GEOID\")\n",
    "\n",
    "# Dislay results\n",
    "names(philly_merge_edu)"
   ]
  },
  {
   "cell_type": "code",
   "execution_count": null,
   "metadata": {},
   "outputs": [],
   "source": [
    "# Reprojecting\n",
    "\n",
    "# Check current coordinates\n",
    "range(coordinates(philly))\n",
    "range(coordinates(philly_hom))\n",
    "\n",
    "proj4string(philly)\n",
    "proj4string(philly_hom)\n",
    "\n",
    "# Transport\n",
    "philly_hom <- spTransform(philly_hom, CRS(proj4string(philly)))\n",
    "\n",
    "# Check results\n",
    "range(coordinates(philly))\n",
    "range(coordinates(philly_hom))\n",
    "\n",
    "proj4string(philly)\n",
    "proj4string(philly_hom)"
   ]
  },
  {
   "cell_type": "code",
   "execution_count": null,
   "metadata": {},
   "outputs": [],
   "source": [
    "# Spatial aggregation\n",
    "philly_aggr <- aggregate(x=philly_hom[\"OBJ_ID\"], by=philly, FUN=sum)"
   ]
  },
  {
   "cell_type": "code",
   "execution_count": null,
   "metadata": {
    "scrolled": true
   },
   "outputs": [],
   "source": [
    "# Number of murders in Phipadelphia\n",
    "spplot(philly[,1], colorkey=TRUE, sp.layout=philly_hom[\"OBJ_ID\"], main=\"Liczba morderstw w Filadelfii\")\n",
    "spplot(philly_aggr, main=\"Liczba morderstw w Filadelfii\")\n",
    "spplot(philly_hom[\"TEXT_GE\"], main=\"Morderstwa w Filadelfii\")"
   ]
  }
 ],
 "metadata": {
  "kernelspec": {
   "display_name": "R",
   "language": "R",
   "name": "ir"
  },
  "language_info": {
   "codemirror_mode": "r",
   "file_extension": ".r",
   "mimetype": "text/x-r-source",
   "name": "R",
   "pygments_lexer": "r",
   "version": "3.6.3"
  }
 },
 "nbformat": 4,
 "nbformat_minor": 4
}
